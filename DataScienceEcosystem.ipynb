{
 "cells": [
  {
   "cell_type": "markdown",
   "id": "25032623",
   "metadata": {},
   "source": [
    "### <span style=color:red>Exercise 1: Create a Jupyter Notebook</span>\n",
    "\n",
    "<span style=color:blue>Create a new Jupyter notebook called DataScienceEcosystem.ipynb</span>"
   ]
  },
  {
   "cell_type": "markdown",
   "id": "c544fd7d",
   "metadata": {},
   "source": [
    "### <span style=color:red>Exercise 2: Create markdown cell with title of the notebook</span>\n",
    "\n",
    "<span style=color:blue>Create a markdown cell with the title Data Science Tools and Ecosystem using H1 style heading.</span>\n",
    "\n",
    "<span style=color:blue>Take a screenshot of the markdown cell and name it as 2-title.png</span>\n",
    "\n",
    "<span style=color:blue>(Images can be saved with either the .jpg or .png extension.)</span>"
   ]
  },
  {
   "cell_type": "markdown",
   "id": "f570f8e0",
   "metadata": {},
   "source": [
    "# Data Science Tools and Ecosystem"
   ]
  },
  {
   "cell_type": "markdown",
   "id": "5c1085d1",
   "metadata": {},
   "source": [
    "### <span style=color:red>Exercise 3 - Create a markdown cell for an introduction</span>\n",
    "\n",
    "<span style=color:blue>Write an introductory sentence about the notebook such as the follows:</span>\n",
    "\n",
    "<span style=color:blue>In this notebook, Data Science Tools and Ecosystem are summarized.</span>\n",
    "\n",
    "<span style=color:blue>Take a screenshot of the markdown cell and name it as 3-intro.png</span> \n",
    "\n",
    "<span style=color:blue>(Images can be saved with either the .jpg or .png extension.)</span>\n",
    "\n"
   ]
  },
  {
   "cell_type": "markdown",
   "id": "5041dcec",
   "metadata": {},
   "source": [
    "In this notebook, Data Science Tools and Ecosystem are summarized."
   ]
  },
  {
   "attachments": {},
   "cell_type": "markdown",
   "id": "16f772cc",
   "metadata": {},
   "source": [
    "Excercise 10:\n",
    "\n",
    "**Objectives:**\n",
    "- Recommended Programming Languages:\n",
    "\t* Primary Languages: Python, R, and SQL.\n",
    "    * Other Popular Languages: Scala, Java, C++, and Julia.\n",
    "\t* Unique Use Cases: JavaScript, PHP, Go, Ruby, and Visual Basic.\n",
    "- Scientific Computing Libraries in Python: \n",
    "    * Pandas: Data structures and tools for data cleaning, manipulation, and analysis. Primary instrument is a DataFrame.\n",
    "\t* NumPy: Based on arrays and matrices, supports mathematical functions on arrays. Pandas is built on NumPy.\n",
    "- Visualization Libraries in Python:\n",
    "\t* Matplotlib: Most well-known for data visualization, used for creating graphs and plots, customizable.\n",
    "\t* Seaborn: High-level library based on Matplotlib, generates heat maps, time series, and violin plots."
   ]
  },
  {
   "cell_type": "markdown",
   "id": "e7499369",
   "metadata": {},
   "source": [
    "### <span style=color:red>Exercise 4 - Create a markdown cell to list data science languages</span>\n",
    "\n",
    "<span style=color:blue>Start the cell with an overview line such as:</span>\n",
    "\n",
    "<span style=color:blue>Some of the popular languages that Data Scientists use are:\n",
    "Then create an ordered list (i.e. numbered) listing 3 (or more) commonly used languages for data science.\n",
    "Take a screenshot of the markdown cell and name it as 4-dslanguages.png (Images can be saved with either the .jpg or .png extension.)</span>\n",
    "\n"
   ]
  },
  {
   "cell_type": "markdown",
   "id": "660dc5c4",
   "metadata": {},
   "source": [
    "**Some of the popular languages that Data Scientists use are:**\n",
    "- Python.\n",
    "- R.\n",
    "- SQL."
   ]
  },
  {
   "cell_type": "markdown",
   "id": "c5a48476",
   "metadata": {},
   "source": [
    "### <span style=color:red>Exercise 5 - Create a markdown cell to list data science libraries</span>\n",
    "\n",
    "<span style=color:blue>Add an overview line to the cell like:</span>\n",
    "\n",
    "<span style=color:blue>Some of the commonly used libraries used by Data Scientists include:\n",
    "Below this line add an ordered list listing 3 (or more) commonly used libraries in data science.\n",
    "Take a screenshot of the markdown cell and name it as 5-dslibraries.png (Images can be saved with either the .jpg or .png extension.)</span>"
   ]
  },
  {
   "attachments": {},
   "cell_type": "markdown",
   "id": "6e5c021c",
   "metadata": {},
   "source": [
    "**Some of the commonly used libraries used by Data Scientists include:**\n",
    "1. Pandas\n",
    "2. NumPy\n",
    "3. Matplotlib"
   ]
  },
  {
   "cell_type": "markdown",
   "id": "56ac1ce5",
   "metadata": {},
   "source": [
    "### <span style=color:red>Exercise 6 - Create a markdown cell with a table of Data Science tools</span>\n",
    "\n",
    "<span style=color:blue>Create a single column table in this cell with the first row containing the header Data Science Tools. The subsequent three rows in the table should indicate three development environment open source tools used in data science.</span>\n",
    "\n",
    "<span style=color:blue>Take a screenshot of the markdown cell and name it as 6-dstools.png (Images can be saved with either the .jpg or .png extension.)\n",
    "Hint: Refer to Lab: Using Markdowns in Jupyter Notebooks to create a table.</span>"
   ]
  },
  {
   "attachments": {},
   "cell_type": "markdown",
   "id": "a751a220",
   "metadata": {},
   "source": [
    "|Data Science Tools|\n",
    "|------------------|\n",
    "|Jupyter|\n",
    "|RStudio|\n",
    "|Spyder|"
   ]
  },
  {
   "cell_type": "markdown",
   "id": "3dcbda15",
   "metadata": {},
   "source": [
    "### <span style=color:red>Exercise 7 - Create a markdown cell introducing arithmetic expression examples</span>\n",
    "\n",
    "<span style=color:blue>Add a line in this cell with H3 style heading with text like:</span>\n",
    "\n",
    "<span style=color:blue>Below are a few examples of evaluating arithmetic expressions in Python.\n",
    "Take a screenshot of the markdown cell and name it as 7-introarithmetic.png (Images can be saved with either the .jpg or .png extension.)</span>"
   ]
  },
  {
   "cell_type": "markdown",
   "id": "3a921953",
   "metadata": {},
   "source": [
    "### Below are a few examples of evaluating arithmetic expressions in Python.\n",
    "5+9\n",
    "\n",
    "2-1\n",
    "\n",
    "2*3\n",
    "\n",
    "8/2"
   ]
  },
  {
   "cell_type": "markdown",
   "id": "7d428862",
   "metadata": {},
   "source": [
    "### <span style=color:red>Exercise 8 - Create a code cell to multiply and add numbers</span>\n",
    "\n",
    "<span style=color:blue>In this code cell evaluate the expression (3*4)+5.\n",
    "Insert a comment line before the expression to explain the operation e.g.  \n",
    "This a simple arithmetic expression to mutiply then add integers.\n",
    "Then execute the cell to ensure the expression returns the expected output of 17.\n",
    "Take a screenshot of the code cell with output and name it as 8-multiplyandaddintegers.png \n",
    "(Images can be saved with either the .jpg or .png extension.)</span>\n",
    "\n"
   ]
  },
  {
   "cell_type": "code",
   "execution_count": 5,
   "id": "dce9470b",
   "metadata": {},
   "outputs": [
    {
     "data": {
      "text/plain": [
       "17"
      ]
     },
     "execution_count": 5,
     "metadata": {},
     "output_type": "execute_result"
    }
   ],
   "source": [
    "# This a simple arithmetic expression to mutiply then add integers.\n",
    "# In this code cell evaluate the expression (3*4)+5.\n",
    "(3*4)+5"
   ]
  },
  {
   "cell_type": "markdown",
   "id": "8db65277",
   "metadata": {},
   "source": [
    "### <span style=color:red>Exercise 9 - Create a code cell to convert minutes to hours</span>\n",
    "\n",
    "<span style=color:blue>In this code cell write an expression that converts 200 minutes into hours.\n",
    "Insert a comment line before the expression to explain the operation e.g.  \n",
    "This will convert 200 minutes to hours by diving by 60.\n",
    "Run the cell to evaluate the expression.\n",
    "Take a screenshot of the code cell with output and name it as 9-hourstominutes.png \n",
    "(Images can be saved with either the .jpg or .png extension.)</span>"
   ]
  },
  {
   "cell_type": "code",
   "execution_count": 6,
   "id": "a4d6c76d",
   "metadata": {},
   "outputs": [
    {
     "data": {
      "text/plain": [
       "3.3333333333333335"
      ]
     },
     "execution_count": 6,
     "metadata": {},
     "output_type": "execute_result"
    }
   ],
   "source": [
    "# In this code cell write an expression that converts 200 minutes into hours.\n",
    "# This will convert 200 minutes to hours by diving by 60.\n",
    "200/60"
   ]
  },
  {
   "cell_type": "markdown",
   "id": "17538342",
   "metadata": {},
   "source": [
    "### <span style=color:red>Exercise 10 - Insert a markdown cell to list Objectives</span>\n",
    "\n",
    "<span style=color:blue>Below the introduction cell created in Exercise 3, \n",
    "insert a new markdown cell to list the objectives that this notebook covered \n",
    "(i.e. some of the key takeaways from the course). \n",
    "In this new cell start with an introductory line titled: Objectives: in bold font. \n",
    "Then using an unordered list (bullets) indicate 3 to 5 items covered in this notebook, \n",
    "such as List popular languages for Data Science.\n",
    "Take a screenshot of the markdown cell and name it as 10-objectives.png (Images can be saved with either the .jpg or .png extension.)</span>"
   ]
  },
  {
   "cell_type": "markdown",
   "id": "74ee7ace",
   "metadata": {},
   "source": [
    "look below excercise 3"
   ]
  },
  {
   "cell_type": "markdown",
   "id": "fd5ae45a",
   "metadata": {},
   "source": [
    "### <span style=color:red>Exercise 11 - Create a markdown cell to indicate the Author's name</span>\n",
    "\n",
    "<span style=color:blue>In this markdown cell markdown cell include the following text Author in H2 style heading. Include your name as regular text below the word Author.\n",
    "Take a screenshot of the markdown cell and name it as 11-authordetails.png (Images can be saved with either the .jpg or .png extension.)</span>\n",
    "\n",
    "<span style=color:blue>Note: Save and download the notebook.</span>"
   ]
  },
  {
   "cell_type": "markdown",
   "id": "efea8f0b",
   "metadata": {},
   "source": [
    "## Author: \n",
    "Mohamed Hassan"
   ]
  },
  {
   "cell_type": "markdown",
   "id": "16dc05e1",
   "metadata": {},
   "source": [
    "### <span style=color:red>Exercise 12 - Share your notebook through GitHub</span>\n",
    "\n",
    "<span style=color:blue>Upload your notebook to a public respository on GitHub.</span>\n",
    "\n",
    "<span style=color:blue>Note : Please keep the GitHub repo link of the notebook handy.\n",
    "You will need to submit this link as a part of the assignment evaluation.</span>\n",
    "\n",
    "<span style=color:blue>Hint: Refer to Lab: Working with files in Jupyter Notebooks to download the notebook from SN Labs.</span>"
   ]
  },
  {
   "cell_type": "markdown",
   "id": "a4ab3c7a",
   "metadata": {},
   "source": [
    "[My Jupyter Notebook](https://github.com/mhmdhssn72/IBM-Tools-for-Data-Science/blob/main/DataScienceEcosystem.ipynb)"
   ]
  },
  {
   "cell_type": "markdown",
   "id": "e5b2f1ba",
   "metadata": {},
   "source": [
    "### <span style=color:red>Exercise 13 -Take a screenshot of the first page of the notebook and save it as 1-notebook.png</span>\n",
    "<span style=color:blue>(Images can be saved with either the .jpg or .png extension.)</span>\n",
    "\n",
    "<span style=color:blue>Refer to Hands-on Lab: Getting Started with GitHub to upload the downloaded notebook to GitHub.</span>\n",
    "\n",
    "<span style=color:blue>Congratulations on completing this project. In a subsequent item in the course you will submit a link to your notebook on GitHub and evaluate your peers.</span>"
   ]
  },
  {
   "cell_type": "markdown",
   "id": "4906b87a",
   "metadata": {},
   "source": [
    "<img src=\"https://github.com/mhmdhssn72/IBM-Tools-for-Data-Science/blob/main/1-notebook.jpg\" width=\"200\">"
   ]
  }
 ],
 "metadata": {
  "kernelspec": {
   "display_name": "Python 3 (ipykernel)",
   "language": "python",
   "name": "python3"
  },
  "language_info": {
   "codemirror_mode": {
    "name": "ipython",
    "version": 3
   },
   "file_extension": ".py",
   "mimetype": "text/x-python",
   "name": "python",
   "nbconvert_exporter": "python",
   "pygments_lexer": "ipython3",
   "version": "3.10.9"
  }
 },
 "nbformat": 4,
 "nbformat_minor": 5
}
